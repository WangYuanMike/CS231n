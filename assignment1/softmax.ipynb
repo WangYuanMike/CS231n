{
 "cells": [
  {
   "cell_type": "markdown",
   "metadata": {},
   "source": [
    "# Softmax exercise\n",
    "\n",
    "*Complete and hand in this completed worksheet (including its outputs and any supporting code outside of the worksheet) with your assignment submission. For more details see the [assignments page](http://vision.stanford.edu/teaching/cs231n/assignments.html) on the course website.*\n",
    "\n",
    "This exercise is analogous to the SVM exercise. You will:\n",
    "\n",
    "- implement a fully-vectorized **loss function** for the Softmax classifier\n",
    "- implement the fully-vectorized expression for its **analytic gradient**\n",
    "- **check your implementation** with numerical gradient\n",
    "- use a validation set to **tune the learning rate and regularization** strength\n",
    "- **optimize** the loss function with **SGD**\n",
    "- **visualize** the final learned weights\n"
   ]
  },
  {
   "cell_type": "code",
   "execution_count": 1,
   "metadata": {
    "collapsed": false
   },
   "outputs": [],
   "source": [
    "import random\n",
    "import numpy as np\n",
    "from cs231n.data_utils import load_CIFAR10\n",
    "import matplotlib.pyplot as plt\n",
    "\n",
    "from __future__ import print_function\n",
    "\n",
    "%matplotlib inline\n",
    "plt.rcParams['figure.figsize'] = (10.0, 8.0) # set default size of plots\n",
    "plt.rcParams['image.interpolation'] = 'nearest'\n",
    "plt.rcParams['image.cmap'] = 'gray'\n",
    "\n",
    "# for auto-reloading extenrnal modules\n",
    "# see http://stackoverflow.com/questions/1907993/autoreload-of-modules-in-ipython\n",
    "%load_ext autoreload\n",
    "%autoreload 2"
   ]
  },
  {
   "cell_type": "code",
   "execution_count": 2,
   "metadata": {
    "collapsed": false
   },
   "outputs": [
    {
     "name": "stdout",
     "output_type": "stream",
     "text": [
      "Train data shape:  (49000, 3073)\n",
      "Train labels shape:  (49000,)\n",
      "Validation data shape:  (1000, 3073)\n",
      "Validation labels shape:  (1000,)\n",
      "Test data shape:  (1000, 3073)\n",
      "Test labels shape:  (1000,)\n",
      "dev data shape:  (500, 3073)\n",
      "dev labels shape:  (500,)\n"
     ]
    }
   ],
   "source": [
    "def get_CIFAR10_data(num_training=49000, num_validation=1000, num_test=1000, num_dev=500):\n",
    "    \"\"\"\n",
    "    Load the CIFAR-10 dataset from disk and perform preprocessing to prepare\n",
    "    it for the linear classifier. These are the same steps as we used for the\n",
    "    SVM, but condensed to a single function.  \n",
    "    \"\"\"\n",
    "    # Load the raw CIFAR-10 data\n",
    "    cifar10_dir = 'cs231n/datasets/cifar-10-batches-py'\n",
    "    X_train, y_train, X_test, y_test = load_CIFAR10(cifar10_dir)\n",
    "    \n",
    "    # subsample the data\n",
    "    mask = list(range(num_training, num_training + num_validation))\n",
    "    X_val = X_train[mask]\n",
    "    y_val = y_train[mask]\n",
    "    mask = list(range(num_training))\n",
    "    X_train = X_train[mask]\n",
    "    y_train = y_train[mask]\n",
    "    mask = list(range(num_test))\n",
    "    X_test = X_test[mask]\n",
    "    y_test = y_test[mask]\n",
    "    mask = np.random.choice(num_training, num_dev, replace=False)\n",
    "    X_dev = X_train[mask]\n",
    "    y_dev = y_train[mask]\n",
    "    \n",
    "    # Preprocessing: reshape the image data into rows\n",
    "    X_train = np.reshape(X_train, (X_train.shape[0], -1))\n",
    "    X_val = np.reshape(X_val, (X_val.shape[0], -1))\n",
    "    X_test = np.reshape(X_test, (X_test.shape[0], -1))\n",
    "    X_dev = np.reshape(X_dev, (X_dev.shape[0], -1))\n",
    "    \n",
    "    # Normalize the data: subtract the mean image\n",
    "    mean_image = np.mean(X_train, axis = 0)\n",
    "    X_train -= mean_image\n",
    "    X_val -= mean_image\n",
    "    X_test -= mean_image\n",
    "    X_dev -= mean_image\n",
    "    \n",
    "    # add bias dimension and transform into columns\n",
    "    X_train = np.hstack([X_train, np.ones((X_train.shape[0], 1))])\n",
    "    X_val = np.hstack([X_val, np.ones((X_val.shape[0], 1))])\n",
    "    X_test = np.hstack([X_test, np.ones((X_test.shape[0], 1))])\n",
    "    X_dev = np.hstack([X_dev, np.ones((X_dev.shape[0], 1))])\n",
    "    \n",
    "    return X_train, y_train, X_val, y_val, X_test, y_test, X_dev, y_dev\n",
    "\n",
    "\n",
    "# Invoke the above function to get our data.\n",
    "X_train, y_train, X_val, y_val, X_test, y_test, X_dev, y_dev = get_CIFAR10_data()\n",
    "print('Train data shape: ', X_train.shape)\n",
    "print('Train labels shape: ', y_train.shape)\n",
    "print('Validation data shape: ', X_val.shape)\n",
    "print('Validation labels shape: ', y_val.shape)\n",
    "print('Test data shape: ', X_test.shape)\n",
    "print('Test labels shape: ', y_test.shape)\n",
    "print('dev data shape: ', X_dev.shape)\n",
    "print('dev labels shape: ', y_dev.shape)"
   ]
  },
  {
   "cell_type": "markdown",
   "metadata": {},
   "source": [
    "## Softmax Classifier\n",
    "\n",
    "Your code for this section will all be written inside **cs231n/classifiers/softmax.py**. \n"
   ]
  },
  {
   "cell_type": "code",
   "execution_count": 3,
   "metadata": {
    "collapsed": false
   },
   "outputs": [
    {
     "name": "stdout",
     "output_type": "stream",
     "text": [
      "loss: 2.314394\n",
      "sanity check: 2.302585\n"
     ]
    }
   ],
   "source": [
    "# First implement the naive softmax loss function with nested loops.\n",
    "# Open the file cs231n/classifiers/softmax.py and implement the\n",
    "# softmax_loss_naive function.\n",
    "\n",
    "from cs231n.classifiers.softmax import softmax_loss_naive\n",
    "import time\n",
    "\n",
    "# Generate a random softmax weight matrix and use it to compute the loss.\n",
    "W = np.random.randn(3073, 10) * 0.0001\n",
    "loss, grad = softmax_loss_naive(W, X_dev, y_dev, 0.0)\n",
    "\n",
    "# As a rough sanity check, our loss should be something close to -log(0.1).\n",
    "print('loss: %f' % loss)\n",
    "print('sanity check: %f' % (-np.log(0.1)))"
   ]
  },
  {
   "cell_type": "markdown",
   "metadata": {},
   "source": [
    "## Inline Question 1:\n",
    "Why do we expect our loss to be close to -log(0.1)? Explain briefly.**\n",
    "\n",
    "**Your answer:** uniform distribution. Loss is the mean of the probablity of every class. Therefore loss is about 10%.\n"
   ]
  },
  {
   "cell_type": "code",
   "execution_count": 4,
   "metadata": {
    "collapsed": false
   },
   "outputs": [
    {
     "name": "stdout",
     "output_type": "stream",
     "text": [
      "numerical: 0.330100 analytic: 0.330100, relative error: 1.636848e-07\n",
      "numerical: 1.412882 analytic: 1.412882, relative error: 3.603384e-08\n",
      "numerical: 2.826506 analytic: 2.826506, relative error: 1.878164e-08\n",
      "numerical: -4.898860 analytic: -4.898860, relative error: 4.961492e-09\n",
      "numerical: -0.104092 analytic: -0.104092, relative error: 3.944759e-07\n",
      "numerical: 0.008031 analytic: 0.008031, relative error: 1.635447e-06\n",
      "numerical: 0.234418 analytic: 0.234418, relative error: 1.399338e-07\n",
      "numerical: -4.488615 analytic: -4.488615, relative error: 9.090821e-09\n",
      "numerical: -2.232404 analytic: -2.232404, relative error: 6.803998e-10\n",
      "numerical: -1.408132 analytic: -1.408132, relative error: 4.718940e-08\n",
      "with regularization\n",
      "numerical: 1.036889 analytic: 1.036889, relative error: 3.565371e-08\n",
      "numerical: 1.594096 analytic: 1.594096, relative error: 1.345154e-08\n",
      "numerical: 0.468106 analytic: 0.468106, relative error: 1.051565e-07\n",
      "numerical: 1.173834 analytic: 1.173834, relative error: 2.928395e-08\n",
      "numerical: -0.192534 analytic: -0.192534, relative error: 4.661283e-07\n",
      "numerical: -0.607820 analytic: -0.607820, relative error: 4.968272e-08\n",
      "numerical: -0.554778 analytic: -0.554778, relative error: 7.461104e-08\n",
      "numerical: 0.998944 analytic: 0.998944, relative error: 2.497001e-08\n",
      "numerical: 1.316506 analytic: 1.316506, relative error: 4.477944e-08\n",
      "numerical: -0.830787 analytic: -0.830787, relative error: 1.210199e-07\n"
     ]
    }
   ],
   "source": [
    "# Complete the implementation of softmax_loss_naive and implement a (naive)\n",
    "# version of the gradient that uses nested loops.\n",
    "loss, grad = softmax_loss_naive(W, X_dev, y_dev, 0.0)\n",
    "\n",
    "# As we did for the SVM, use numeric gradient checking as a debugging tool.\n",
    "# The numeric gradient should be close to the analytic gradient.\n",
    "from cs231n.gradient_check import grad_check_sparse\n",
    "f = lambda w: softmax_loss_naive(w, X_dev, y_dev, 0.0)[0]\n",
    "grad_numerical = grad_check_sparse(f, W, grad, 10)\n",
    "\n",
    "print('with regularization')\n",
    "# similar to SVM case, do another gradient check with regularization\n",
    "loss, grad = softmax_loss_naive(W, X_dev, y_dev, 5e1)\n",
    "f = lambda w: softmax_loss_naive(w, X_dev, y_dev, 5e1)[0]\n",
    "grad_numerical = grad_check_sparse(f, W, grad, 10)"
   ]
  },
  {
   "cell_type": "code",
   "execution_count": 5,
   "metadata": {
    "collapsed": false
   },
   "outputs": [
    {
     "name": "stdout",
     "output_type": "stream",
     "text": [
      "naive loss: 2.314394e+00 computed in 0.080623s\n",
      "vectorized loss: 2.314394e+00 computed in 0.016089s\n",
      "Loss difference: 0.000000\n",
      "Gradient difference: 0.000000\n"
     ]
    }
   ],
   "source": [
    "# Now that we have a naive implementation of the softmax loss function and its gradient,\n",
    "# implement a vectorized version in softmax_loss_vectorized.\n",
    "# The two versions should compute the same results, but the vectorized version should be\n",
    "# much faster.\n",
    "tic = time.time()\n",
    "loss_naive, grad_naive = softmax_loss_naive(W, X_dev, y_dev, 0.000005)\n",
    "toc = time.time()\n",
    "print('naive loss: %e computed in %fs' % (loss_naive, toc - tic))\n",
    "\n",
    "from cs231n.classifiers.softmax import softmax_loss_vectorized\n",
    "tic = time.time()\n",
    "loss_vectorized, grad_vectorized = softmax_loss_vectorized(W, X_dev, y_dev, 0.000005)\n",
    "toc = time.time()\n",
    "print('vectorized loss: %e computed in %fs' % (loss_vectorized, toc - tic))\n",
    "\n",
    "# As we did for the SVM, we use the Frobenius norm to compare the two versions\n",
    "# of the gradient.\n",
    "grad_difference = np.linalg.norm(grad_naive - grad_vectorized, ord='fro')\n",
    "print('Loss difference: %f' % np.abs(loss_naive - loss_vectorized))\n",
    "print('Gradient difference: %f' % grad_difference)"
   ]
  },
  {
   "cell_type": "code",
   "execution_count": 6,
   "metadata": {
    "collapsed": false
   },
   "outputs": [
    {
     "name": "stdout",
     "output_type": "stream",
     "text": [
      "iteration 0 / 1500: loss 97.199509\n",
      "iteration 100 / 1500: loss 52.711462\n",
      "iteration 200 / 1500: loss 29.392198\n",
      "iteration 300 / 1500: loss 16.802534\n",
      "iteration 400 / 1500: loss 10.044082\n",
      "iteration 500 / 1500: loss 6.381049\n",
      "iteration 600 / 1500: loss 4.342977\n",
      "iteration 700 / 1500: loss 3.239847\n",
      "iteration 800 / 1500: loss 2.634227\n",
      "iteration 900 / 1500: loss 2.162740\n",
      "iteration 1000 / 1500: loss 2.124224\n",
      "iteration 1100 / 1500: loss 2.036386\n",
      "iteration 1200 / 1500: loss 1.982599\n",
      "iteration 1300 / 1500: loss 1.975226\n",
      "iteration 1400 / 1500: loss 2.102860\n",
      "iteration 0 / 1500: loss 158.808993\n",
      "iteration 100 / 1500: loss 57.558120\n",
      "iteration 200 / 1500: loss 22.269097\n",
      "iteration 300 / 1500: loss 9.265436\n",
      "iteration 400 / 1500: loss 4.506259\n",
      "iteration 500 / 1500: loss 2.936649\n",
      "iteration 600 / 1500: loss 2.260723\n",
      "iteration 700 / 1500: loss 2.105035\n",
      "iteration 800 / 1500: loss 1.851611\n",
      "iteration 900 / 1500: loss 2.013772\n",
      "iteration 1000 / 1500: loss 1.972735\n",
      "iteration 1100 / 1500: loss 1.989159\n",
      "iteration 1200 / 1500: loss 1.866329\n",
      "iteration 1300 / 1500: loss 1.874919\n",
      "iteration 1400 / 1500: loss 1.899157\n",
      "iteration 0 / 1500: loss 97.265053\n",
      "iteration 100 / 1500: loss 46.912592\n",
      "iteration 200 / 1500: loss 23.636293\n",
      "iteration 300 / 1500: loss 12.365812\n",
      "iteration 400 / 1500: loss 6.967142\n",
      "iteration 500 / 1500: loss 4.222153\n",
      "iteration 600 / 1500: loss 3.065773\n",
      "iteration 700 / 1500: loss 2.432364\n",
      "iteration 800 / 1500: loss 2.132029\n",
      "iteration 900 / 1500: loss 2.080417\n",
      "iteration 1000 / 1500: loss 1.943825\n",
      "iteration 1100 / 1500: loss 1.888205\n",
      "iteration 1200 / 1500: loss 1.931665\n",
      "iteration 1300 / 1500: loss 1.917742\n",
      "iteration 1400 / 1500: loss 1.960164\n",
      "iteration 0 / 1500: loss 159.127341\n",
      "iteration 100 / 1500: loss 48.037358\n",
      "iteration 200 / 1500: loss 15.630409\n",
      "iteration 300 / 1500: loss 5.947287\n",
      "iteration 400 / 1500: loss 3.163919\n",
      "iteration 500 / 1500: loss 2.244248\n",
      "iteration 600 / 1500: loss 2.061992\n",
      "iteration 700 / 1500: loss 1.984135\n",
      "iteration 800 / 1500: loss 2.007544\n",
      "iteration 900 / 1500: loss 1.922781\n",
      "iteration 1000 / 1500: loss 1.959727\n",
      "iteration 1100 / 1500: loss 2.038189\n",
      "iteration 1200 / 1500: loss 1.894946\n",
      "iteration 1300 / 1500: loss 1.889813\n",
      "iteration 1400 / 1500: loss 1.911109\n",
      "lr 5.000000e-07 reg 3.000000e+03 train accuracy: 0.383224 val accuracy: 0.388000\n",
      "lr 5.000000e-07 reg 5.000000e+03 train accuracy: 0.372469 val accuracy: 0.389000\n",
      "lr 6.000000e-07 reg 3.000000e+03 train accuracy: 0.386551 val accuracy: 0.385000\n",
      "lr 6.000000e-07 reg 5.000000e+03 train accuracy: 0.372204 val accuracy: 0.387000\n",
      "best validation accuracy achieved during cross-validation: 0.389000\n"
     ]
    }
   ],
   "source": [
    "# Use the validation set to tune hyperparameters (regularization strength and\n",
    "# learning rate). You should experiment with different ranges for the learning\n",
    "# rates and regularization strengths; if you are careful you should be able to\n",
    "# get a classification accuracy of over 0.35 on the validation set.\n",
    "from cs231n.classifiers import Softmax\n",
    "results = {}\n",
    "best_val = -1\n",
    "best_softmax = None\n",
    "learning_rates = [5e-7, 6e-7]\n",
    "regularization_strengths = [3e3, 5e3]\n",
    "\n",
    "################################################################################\n",
    "# TODO:                                                                        #\n",
    "# Use the validation set to set the learning rate and regularization strength. #\n",
    "# This should be identical to the validation that you did for the SVM; save    #\n",
    "# the best trained softmax classifer in best_softmax.                          #\n",
    "################################################################################\n",
    "num_iters = 1500\n",
    "\n",
    "for i in np.arange(len(learning_rates)):\n",
    "    for j in np.arange(len(regularization_strengths)):\n",
    "        sfm_val = Softmax()\n",
    "        sfm_val.train(X_train, y_train, \n",
    "                      learning_rate = learning_rates[i], \n",
    "                      reg = regularization_strengths[j],\n",
    "                      num_iters=num_iters, verbose=True)\n",
    "        y_train_pred = sfm_val.predict(X_train)\n",
    "        y_train_accuracy = np.mean(y_train == y_train_pred)        \n",
    "        y_val_pred = sfm_val.predict(X_val)\n",
    "        y_val_accuracy = np.mean(y_val == y_val_pred)\n",
    "        results[(learning_rates[i], regularization_strengths[j])] = (y_train_accuracy, y_val_accuracy)\n",
    "        \n",
    "        if best_val < y_val_accuracy:\n",
    "            best_val = y_val_accuracy\n",
    "            best_softmax = sfm_val\n",
    "################################################################################\n",
    "#                              END OF YOUR CODE                                #\n",
    "################################################################################\n",
    "    \n",
    "# Print out results.\n",
    "for lr, reg in sorted(results):\n",
    "    train_accuracy, val_accuracy = results[(lr, reg)]\n",
    "    print('lr %e reg %e train accuracy: %f val accuracy: %f' % (\n",
    "                lr, reg, train_accuracy, val_accuracy))\n",
    "    \n",
    "print('best validation accuracy achieved during cross-validation: %f' % best_val)"
   ]
  },
  {
   "cell_type": "code",
   "execution_count": 7,
   "metadata": {
    "collapsed": false
   },
   "outputs": [
    {
     "name": "stdout",
     "output_type": "stream",
     "text": [
      "softmax on raw pixels final test set accuracy: 0.380000\n"
     ]
    }
   ],
   "source": [
    "# evaluate on test set\n",
    "# Evaluate the best softmax on test set\n",
    "y_test_pred = best_softmax.predict(X_test)\n",
    "test_accuracy = np.mean(y_test == y_test_pred)\n",
    "print('softmax on raw pixels final test set accuracy: %f' % (test_accuracy, ))"
   ]
  },
  {
   "cell_type": "code",
   "execution_count": 8,
   "metadata": {
    "collapsed": false
   },
   "outputs": [
    {
     "data": {
      "image/png": "[encoded data removed]",
      "text/plain": [
       "<matplotlib.figure.Figure at 0x7ff6dc91d090>"
      ]
     },
     "metadata": {},
     "output_type": "display_data"
    }
   ],
   "source": [
    "# Visualize the learned weights for each class\n",
    "w = best_softmax.W[:-1,:] # strip out the bias\n",
    "w = w.reshape(32, 32, 3, 10)\n",
    "\n",
    "w_min, w_max = np.min(w), np.max(w)\n",
    "\n",
    "classes = ['plane', 'car', 'bird', 'cat', 'deer', 'dog', 'frog', 'horse', 'ship', 'truck']\n",
    "for i in range(10):\n",
    "    plt.subplot(2, 5, i + 1)\n",
    "    \n",
    "    # Rescale the weights to be between 0 and 255\n",
    "    wimg = 255.0 * (w[:, :, :, i].squeeze() - w_min) / (w_max - w_min)\n",
    "    plt.imshow(wimg.astype('uint8'))\n",
    "    plt.axis('off')\n",
    "    plt.title(classes[i])"
   ]
  },
  {
   "cell_type": "code",
   "execution_count": null,
   "metadata": {
    "collapsed": true
   },
   "outputs": [],
   "source": []
  }
 ],
 "metadata": {
  "kernelspec": {
   "display_name": "Python 2",
   "language": "python",
   "name": "python2"
  },
  "language_info": {
   "codemirror_mode": {
    "name": "ipython",
    "version": 2
   },
   "file_extension": ".py",
   "mimetype": "text/x-python",
   "name": "python",
   "nbconvert_exporter": "python",
   "pygments_lexer": "ipython2",
   "version": "2.7.12"
  }
 },
 "nbformat": 4,
 "nbformat_minor": 0
}
